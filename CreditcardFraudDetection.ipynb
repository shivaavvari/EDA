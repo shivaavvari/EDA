{
  "nbformat": 4,
  "nbformat_minor": 0,
  "metadata": {
    "colab": {
      "private_outputs": true,
      "provenance": [],
      "gpuType": "V28",
      "authorship_tag": "ABX9TyO+P0H9Xi02BdHXU9CdnaHm",
      "include_colab_link": true
    },
    "kernelspec": {
      "name": "python3",
      "display_name": "Python 3"
    },
    "language_info": {
      "name": "python"
    },
    "accelerator": "TPU"
  },
  "cells": [
    {
      "cell_type": "markdown",
      "metadata": {
        "id": "view-in-github",
        "colab_type": "text"
      },
      "source": [
        "<a href=\"https://colab.research.google.com/github/shivaavvari/EDA/blob/main/CreditcardFraudDetection.ipynb\" target=\"_parent\"><img src=\"https://colab.research.google.com/assets/colab-badge.svg\" alt=\"Open In Colab\"/></a>"
      ]
    },
    {
      "cell_type": "code",
      "execution_count": null,
      "metadata": {
        "id": "nMit8Wdu4kOm"
      },
      "outputs": [],
      "source": [
        "!pip install mlxtend\n",
        "!pip intall imblearn\n",
        "\n",
        "import kagglehub\n",
        "import pandas as pd\n",
        "import numpy as np\n",
        "from sklearn.preprocessing import StandardScaler\n",
        "from sklearn.model_selection import train_test_split\n",
        "from sklearn.ensemble import RandomForestClassifier\n",
        "from sklearn.metrics  import confusion_matrix ,roc_auc_score ,roc_curve, ConfusionMatrixDisplay ,RocCurveDisplay,f1_score,precision_score,recall_score,accuracy_score\n",
        "import pickle\n",
        "import matplotlib.pyplot as plt\n",
        "from mlxtend.plotting import plot_confusion_matrix\n",
        "from sklearn.metrics import PrecisionRecallDisplay\n",
        "from sklearn.ensemble import AdaBoostClassifier\n",
        "from sklearn.tree import DecisionTreeClassifier\n",
        "from sklearn.neural_network import MLPClassifier\n",
        "from sklearn.metrics import classification_report\n",
        "\n",
        "import seaborn as sns\n",
        "%matplotlib inline\n",
        "\n",
        "\n",
        "# Download latest version\n",
        "path = kagglehub.dataset_download(\"mlg-ulb/creditcardfraud\")\n",
        "\n",
        "print(\"Path to dataset files:\", path)"
      ]
    },
    {
      "cell_type": "code",
      "source": [
        "df = pd.read_csv(\"/root/.cache/kagglehub/datasets/mlg-ulb/creditcardfraud/versions/3/creditcard.csv\",sep=\",\")"
      ],
      "metadata": {
        "id": "liqCXpgk5FHf"
      },
      "execution_count": null,
      "outputs": []
    },
    {
      "cell_type": "code",
      "source": [
        "df.isna().sum()\n",
        "df.info()\n",
        "df.dtypes\n",
        "df.describe()\n"
      ],
      "metadata": {
        "id": "VOE5Ys9ZFBR8"
      },
      "execution_count": null,
      "outputs": []
    },
    {
      "cell_type": "code",
      "source": [
        "fig,ax = plt.subplots(nrows=6,ncols=5,figsize=(20,10))\n",
        "for col in df.columns[:-1]:\n",
        "  plt.subplot(6,5,df.columns.get_loc(col)+1)\n",
        "  df[col].plot(kind='hist')\n",
        "  plt.tight_layout()\n",
        "plt.show()\n"
      ],
      "metadata": {
        "id": "WN8lwqzXFe8T"
      },
      "execution_count": null,
      "outputs": []
    },
    {
      "cell_type": "code",
      "source": [
        "sns.pairplot(df[df.columns[:-1]])"
      ],
      "metadata": {
        "id": "OWWvT3DL3TLD"
      },
      "execution_count": null,
      "outputs": []
    },
    {
      "cell_type": "code",
      "source": [
        "sns.heatmap(df.corr())"
      ],
      "metadata": {
        "id": "0TjO8IWI6e_z"
      },
      "execution_count": null,
      "outputs": []
    },
    {
      "cell_type": "code",
      "source": [
        "df.corr().plot(legend=False)"
      ],
      "metadata": {
        "id": "5T6oaYPAGTQG"
      },
      "execution_count": null,
      "outputs": []
    },
    {
      "cell_type": "markdown",
      "source": [
        "# New Section"
      ],
      "metadata": {
        "id": "s4lhbZVf5JiQ"
      }
    },
    {
      "cell_type": "code",
      "source": [
        "X =df[df.columns[:-1]]\n",
        "y = df[df.columns[-1]]"
      ],
      "metadata": {
        "id": "LyLFEAiG510g"
      },
      "execution_count": null,
      "outputs": []
    },
    {
      "cell_type": "code",
      "source": [
        "scaler  = StandardScaler()\n",
        "scaler.fit_transform(X)\n",
        "X_scaled = scaler.transform(X)\n"
      ],
      "metadata": {
        "id": "FTbOLSuTSV9G"
      },
      "execution_count": null,
      "outputs": []
    },
    {
      "cell_type": "code",
      "source": [
        "\n",
        "X_train,X_test,y_train,y_test = train_test_split(X_scaled, y,test_size=0.33,random_state=42)"
      ],
      "metadata": {
        "id": "CPwHlmUL5184"
      },
      "execution_count": null,
      "outputs": []
    },
    {
      "cell_type": "code",
      "source": [
        "df.columns\n"
      ],
      "metadata": {
        "id": "M3Whd0gNNo6Y"
      },
      "execution_count": null,
      "outputs": []
    },
    {
      "cell_type": "code",
      "source": [
        "\n",
        "cls = RandomForestClassifier()\n",
        "\n",
        "cls.fit(X_train,y_train )"
      ],
      "metadata": {
        "id": "8H73Og9e5_4o"
      },
      "execution_count": null,
      "outputs": []
    },
    {
      "cell_type": "code",
      "source": [
        "y_pred = cls.predict(X_test)\n",
        "\n",
        "test = X_test[y_pred==1]\n",
        "type(test)"
      ],
      "metadata": {
        "id": "t6ftdSRL5__i"
      },
      "execution_count": null,
      "outputs": []
    },
    {
      "cell_type": "code",
      "source": [
        "X_test [y_pred == 1]\n",
        "df_test = pd.DataFrame(X_test[y_pred==1],columns=df.columns[:-1])\n",
        "df_test"
      ],
      "metadata": {
        "id": "4Kz6pfYD70_o"
      },
      "execution_count": null,
      "outputs": []
    },
    {
      "cell_type": "markdown",
      "source": [],
      "metadata": {
        "id": "qcfFNsZCC-4E"
      }
    },
    {
      "cell_type": "code",
      "source": [
        "df_test[df_test.index==1].to_json().replace('\"0\":','').replace(\"{\",'').replace(\"}\",\"\")"
      ],
      "metadata": {
        "id": "jCx_qRw871Fz"
      },
      "execution_count": null,
      "outputs": []
    },
    {
      "cell_type": "code",
      "source": [
        "cm = confusion_matrix(y_test,y_pred)\n",
        "cm_display =ConfusionMatrixDisplay(cm,display_labels=[0,1])\n",
        "cm_display.plot()\n",
        "plt.show()"
      ],
      "metadata": {
        "collapsed": true,
        "id": "El_G1OBUBRho"
      },
      "execution_count": null,
      "outputs": []
    },
    {
      "cell_type": "code",
      "source": [
        "print(classification_report(y_test,y_pred))"
      ],
      "metadata": {
        "id": "nEFtYbWSQlMk"
      },
      "execution_count": null,
      "outputs": []
    },
    {
      "cell_type": "code",
      "source": [
        "f1_score(y_test,y_pred)"
      ],
      "metadata": {
        "id": "dx1fZ9GfHpwy"
      },
      "execution_count": null,
      "outputs": []
    },
    {
      "cell_type": "code",
      "source": [
        "precision_score(y_test,y_pred)"
      ],
      "metadata": {
        "id": "4xS-xxcZHxZa"
      },
      "execution_count": null,
      "outputs": []
    },
    {
      "cell_type": "code",
      "source": [
        "recall_score(y_test,y_pred)"
      ],
      "metadata": {
        "id": "CCQOE7kgH2qi"
      },
      "execution_count": null,
      "outputs": []
    },
    {
      "cell_type": "code",
      "source": [
        "accuracy_score(y_test,y_pred)"
      ],
      "metadata": {
        "id": "7cfYlKLOH5j6"
      },
      "execution_count": null,
      "outputs": []
    },
    {
      "cell_type": "code",
      "source": [
        "y_score = cls.predict_proba(X_test)\n",
        "y_score =y_score[:,1]\n",
        "roc_auc_score(y_test,y_score)\n"
      ],
      "metadata": {
        "id": "LWn1zi0rH_mq"
      },
      "execution_count": null,
      "outputs": []
    },
    {
      "cell_type": "code",
      "source": [
        "\n",
        "fpr, tpr, _ = roc_curve(y_test, y_score)\n",
        "roc_auc_score(y_test,y_score)\n",
        "plt.title('Receiver Operating Characteristic')\n",
        "plt.legend(loc='lower right')\n",
        "plt.plot([0, 1], [0, 1], 'r--')\n",
        "plt.xlim([0, 1])\n",
        "plt.ylim([0, 1])\n",
        "plt.ylabel('True Positive Rate')\n",
        "plt.xlabel('False Positive Rate')\n",
        "plt.plot(fpr,tpr,'b',label=\"auc=\"+str(roc_auc_score(y_test,y_score)))\n",
        "plt.legend(loc=4)\n",
        "plt.show()"
      ],
      "metadata": {
        "id": "A2JS6ZYDLClx"
      },
      "execution_count": null,
      "outputs": []
    },
    {
      "cell_type": "code",
      "source": [
        "PrecisionRecallDisplay.from_estimator(cls,X_test,y_test,plot_chance_level=True)"
      ],
      "metadata": {
        "id": "4cLNtc_sMqgl"
      },
      "execution_count": null,
      "outputs": []
    },
    {
      "cell_type": "code",
      "source": [
        "PrecisionRecallDisplay.from_predictions(y_test,y_pred)"
      ],
      "metadata": {
        "id": "kljuFgHlM48j"
      },
      "execution_count": null,
      "outputs": []
    },
    {
      "cell_type": "code",
      "source": [
        "import pickle\n",
        "with open(\"model_rf.pkl\",'wb') as f:\n",
        "  pickle.dump(cls,f)\n",
        "  f.close()"
      ],
      "metadata": {
        "id": "AkYcT-d3MxtN"
      },
      "execution_count": null,
      "outputs": []
    },
    {
      "cell_type": "code",
      "source": [
        "weak_learner = DecisionTreeClassifier(max_leaf_nodes=8)"
      ],
      "metadata": {
        "id": "5evCrxk9QBzM"
      },
      "execution_count": null,
      "outputs": []
    },
    {
      "cell_type": "code",
      "source": [
        "clf = AdaBoostClassifier(estimator=weak_learner,n_estimators=200,algorithm='SAMME',random_state=42)"
      ],
      "metadata": {
        "id": "V6ldpYlaQFFs"
      },
      "execution_count": null,
      "outputs": []
    },
    {
      "cell_type": "code",
      "source": [
        "clf.fit(X_train,y_train)"
      ],
      "metadata": {
        "id": "YdmhHkpCQGML"
      },
      "execution_count": null,
      "outputs": []
    },
    {
      "cell_type": "code",
      "source": [
        "y_pred_ada = clf.predict(X_test)"
      ],
      "metadata": {
        "id": "pG_MFzxHR2wU"
      },
      "execution_count": null,
      "outputs": []
    },
    {
      "cell_type": "code",
      "source": [
        "cm_ada=confusion_matrix(y_test,y_pred_ada)"
      ],
      "metadata": {
        "id": "o_UFrMg6WANF"
      },
      "execution_count": null,
      "outputs": []
    },
    {
      "cell_type": "code",
      "source": [
        "cm_ada_display =ConfusionMatrixDisplay(cm_ada,display_labels=[0,1])\n",
        "cm_ada_display.plot()\n",
        "plt.show()"
      ],
      "metadata": {
        "id": "IuH7qHzrWKZN"
      },
      "execution_count": null,
      "outputs": []
    },
    {
      "cell_type": "code",
      "source": [
        "print(classification_report(y_test,y_pred_ada))"
      ],
      "metadata": {
        "id": "kgm4aS3oWW5V"
      },
      "execution_count": null,
      "outputs": []
    },
    {
      "cell_type": "code",
      "source": [
        "f1_score(y_test,y_pred_ada)"
      ],
      "metadata": {
        "id": "qcwDtbwyXjBF"
      },
      "execution_count": null,
      "outputs": []
    },
    {
      "cell_type": "code",
      "source": [
        "precision_score(y_test,y_pred_ada)\n"
      ],
      "metadata": {
        "id": "jgj0t6IvYPCF"
      },
      "execution_count": null,
      "outputs": []
    },
    {
      "cell_type": "code",
      "source": [
        "accuracy_score(y_test,y_pred_ada )"
      ],
      "metadata": {
        "id": "1Bf-Rv6fYXJp"
      },
      "execution_count": null,
      "outputs": []
    },
    {
      "cell_type": "code",
      "source": [
        "PrecisionRecallDisplay.from_estimator(clf,X_test,y_test,plot_chance_level=True)"
      ],
      "metadata": {
        "id": "0YYszf7zYlf3"
      },
      "execution_count": null,
      "outputs": []
    },
    {
      "cell_type": "code",
      "source": [
        "PrecisionRecallDisplay.from_predictions(y_test,y_pred_ada)"
      ],
      "metadata": {
        "id": "3EhHm8ENYtY1"
      },
      "execution_count": null,
      "outputs": []
    },
    {
      "cell_type": "code",
      "source": [
        "print(classification_report(y_test,y_pred))"
      ],
      "metadata": {
        "id": "K3jhSGzRfYiX"
      },
      "execution_count": null,
      "outputs": []
    },
    {
      "cell_type": "code",
      "source": [
        "y_score_ada = clf.predict_proba(X_train)[:,1]\n",
        "roc_auc_score(y_train,y_score_ada)"
      ],
      "metadata": {
        "id": "5KuiaSuwhwp_"
      },
      "execution_count": null,
      "outputs": []
    },
    {
      "cell_type": "code",
      "source": [
        "with open(\"model_ada.pkl\",'wb') as f:\n",
        "  pickle.dump(clf,f)\n",
        "  f.close()"
      ],
      "metadata": {
        "id": "xEGVA9gJEq83"
      },
      "execution_count": null,
      "outputs": []
    },
    {
      "cell_type": "markdown",
      "source": [
        "Logistic Regression"
      ],
      "metadata": {
        "id": "eOpUBpVXotm8"
      }
    },
    {
      "cell_type": "code",
      "source": [
        "from sklearn.linear_model import LogisticRegression\n",
        "lr = LogisticRegression(max_iter=1000)\n",
        "lr.fit(X_train,y_train)"
      ],
      "metadata": {
        "id": "YcnM0pTSh9d4"
      },
      "execution_count": null,
      "outputs": []
    },
    {
      "cell_type": "code",
      "source": [
        "y_pred = lr.predict(X_test)\n",
        "cm = confusion_matrix(y_test,y_pred)\n",
        "cm_display =ConfusionMatrixDisplay(cm,display_labels=[0,1])\n",
        "cm_display.plot()\n",
        "plt.show()"
      ],
      "metadata": {
        "id": "EaAVoy2iii_G"
      },
      "execution_count": null,
      "outputs": []
    },
    {
      "cell_type": "code",
      "source": [
        "print(classification_report(y_test,y_pred))"
      ],
      "metadata": {
        "id": "OaAv4862jEaA"
      },
      "execution_count": null,
      "outputs": []
    },
    {
      "cell_type": "code",
      "source": [
        "f1_score(y_test,y_pred)\n",
        "precision_score(y_test,y_pred)\n",
        "recall_score(y_test,y_pred)\n",
        "accuracy_score(y_test,y_pred)\n",
        "y_score = lr.predict_proba(X_test)\n",
        "y_score =y_score[:,1]\n",
        "roc_auc_score(y_test,y_score)\n"
      ],
      "metadata": {
        "id": "wCeHmAb6jNrg"
      },
      "execution_count": null,
      "outputs": []
    },
    {
      "cell_type": "code",
      "source": [
        "fpr, tpr, _ = roc_curve(y_test, y_score)\n",
        "roc_auc_score(y_test,y_score)\n",
        "plt.title('Receiver Operating Characteristic')\n",
        "plt.legend(loc='lower right')\n",
        "plt.plot([0, 1], [0, 1], 'r--')\n",
        "plt.xlim([0, 1])\n",
        "plt.ylim([0, 1])\n",
        "plt.ylabel('True Positive Rate')\n",
        "plt.xlabel('False Positive Rate')\n",
        "plt.plot(fpr,tpr,'b',label=\"auc=\"+str(roc_auc_score(y_test,y_score)))\n",
        "plt.legend(loc=4)\n",
        "plt.show()"
      ],
      "metadata": {
        "id": "6P9uFMAIjk1Q"
      },
      "execution_count": null,
      "outputs": []
    },
    {
      "cell_type": "code",
      "source": [
        "import pickle\n",
        "with open(\"model_lr.pkl\",'wb') as f:\n",
        "  pickle.dump(lr,f)\n",
        "  f.close()"
      ],
      "metadata": {
        "id": "JtzBkwODlIqS"
      },
      "execution_count": null,
      "outputs": []
    },
    {
      "cell_type": "markdown",
      "source": [
        "Support Vector Machines"
      ],
      "metadata": {
        "id": "FbyMq9FloyuF"
      }
    },
    {
      "cell_type": "code",
      "source": [
        "from sklearn.svm import SVC\n",
        "svm = SVC(probability=True)\n",
        "svm.fit(X_train,y_train)"
      ],
      "metadata": {
        "id": "2HQFL1nLjpRo"
      },
      "execution_count": null,
      "outputs": []
    },
    {
      "cell_type": "code",
      "source": [
        "y_pred = lr.predict(X_test)\n",
        "cm = confusion_matrix(y_test,y_pred)\n",
        "cm_display =ConfusionMatrixDisplay(cm,display_labels=[0,1])\n",
        "cm_display.plot()\n",
        "plt.show()"
      ],
      "metadata": {
        "id": "8kfqfUvbj0Yw"
      },
      "execution_count": null,
      "outputs": []
    },
    {
      "cell_type": "code",
      "source": [
        "print(classification_report(y_test,y_pred))"
      ],
      "metadata": {
        "id": "jcxVcOxtj3Nr"
      },
      "execution_count": null,
      "outputs": []
    },
    {
      "cell_type": "code",
      "source": [
        "f1_score(y_test,y_pred)\n",
        "precision_score(y_test,y_pred)\n",
        "recall_score(y_test,y_pred)\n",
        "accuracy_score(y_test,y_pred)\n",
        "y_score = svm.predict_proba(X_test)\n",
        "y_score =y_score[:,1]\n",
        "roc_auc_score(y_test,y_score)\n"
      ],
      "metadata": {
        "id": "ZuQV02Rwj_vw"
      },
      "execution_count": null,
      "outputs": []
    },
    {
      "cell_type": "code",
      "source": [
        "fpr, tpr, _ = roc_curve(y_test, y_score)\n",
        "roc_auc_score(y_test,y_score)\n",
        "plt.title('Receiver Operating Characteristic')\n",
        "plt.legend(loc='lower right')\n",
        "plt.plot([0, 1], [0, 1], 'r--')\n",
        "plt.xlim([0, 1])\n",
        "plt.ylim([0, 1])\n",
        "plt.ylabel('True Positive Rate')\n",
        "plt.xlabel('False Positive Rate')\n",
        "plt.plot(fpr,tpr,'b',label=\"auc=\"+str(roc_auc_score(y_test,y_score)))\n",
        "plt.legend(loc=4)\n",
        "plt.show()"
      ],
      "metadata": {
        "id": "oujhRNqekAy2"
      },
      "execution_count": null,
      "outputs": []
    },
    {
      "cell_type": "code",
      "source": [
        "with open(\"model_svm.pkl\",'wb') as f:\n",
        "  pickle.dump(svm,f)\n",
        "  f.close()"
      ],
      "metadata": {
        "id": "DxTM0geYlQTj"
      },
      "execution_count": null,
      "outputs": []
    },
    {
      "cell_type": "markdown",
      "source": [
        "K nearest Neighbors"
      ],
      "metadata": {
        "id": "KPYyzy1Do5Ya"
      }
    },
    {
      "cell_type": "code",
      "source": [
        "from sklearn.neighbors import KNeighborsClassifier\n",
        "knn = KNeighborsClassifier()\n",
        "knn.fit(X_train,y_train)"
      ],
      "metadata": {
        "id": "w2bU_1qfkI7E"
      },
      "execution_count": null,
      "outputs": []
    },
    {
      "cell_type": "code",
      "source": [
        "y_pred = knn.predict(X_test)\n",
        "cm = confusion_matrix(y_test,y_pred)\n",
        "cm_display =ConfusionMatrixDisplay(cm,display_labels=[0,1])\n",
        "cm_display.plot()\n",
        "plt.show()"
      ],
      "metadata": {
        "id": "sSZxUyPrkNsK"
      },
      "execution_count": null,
      "outputs": []
    },
    {
      "cell_type": "code",
      "source": [
        "print(classification_report(y_test,y_pred))"
      ],
      "metadata": {
        "id": "WNU-g8Zzkinw"
      },
      "execution_count": null,
      "outputs": []
    },
    {
      "cell_type": "code",
      "source": [
        "f1_score(y_test,y_pred)\n",
        "precision_score(y_test,y_pred)\n",
        "recall_score(y_test,y_pred)\n",
        "accuracy_score(y_test,y_pred)\n",
        "y_score = Knn.predict_proba(X_test)\n",
        "y_score =y_score[:,1]\n",
        "roc_auc_score(y_test,y_score)\n"
      ],
      "metadata": {
        "id": "lqH64bbIklNQ"
      },
      "execution_count": null,
      "outputs": []
    },
    {
      "cell_type": "code",
      "source": [
        "fpr, tpr, _ = roc_curve(y_test, y_score)\n",
        "roc_auc_score(y_test,y_score)\n",
        "plt.title('Receiver Operating Characteristic')\n",
        "plt.legend(loc='lower right')\n",
        "plt.plot([0, 1], [0, 1], 'r--')\n",
        "plt.xlim([0, 1])\n",
        "plt.ylim([0, 1])\n",
        "plt.ylabel('True Positive Rate')\n",
        "plt.xlabel('False Positive Rate')\n",
        "plt.plot(fpr,tpr,'b',label=\"auc=\"+str(roc_auc_score(y_test,y_score)))\n",
        "plt.legend(loc=4)\n",
        "plt.show()"
      ],
      "metadata": {
        "id": "MYjQxFPhkm9Q"
      },
      "execution_count": null,
      "outputs": []
    },
    {
      "cell_type": "code",
      "source": [
        "with open(\"model_knn.pkl\",'wb') as f:\n",
        "  pickle.dump(knn,f)\n",
        "  f.close()\n"
      ],
      "metadata": {
        "id": "NX7NungilToM"
      },
      "execution_count": null,
      "outputs": []
    },
    {
      "cell_type": "markdown",
      "source": [
        "NaiveBayes Classifier"
      ],
      "metadata": {
        "id": "qnmFSFHro9cy"
      }
    },
    {
      "cell_type": "code",
      "source": [
        "from sklearn.naive_bayes import GaussianNB\n",
        "nb = GaussianNB()\n",
        "nb.fit(X_train,y_train)\n"
      ],
      "metadata": {
        "id": "U9WRUHe9knsx"
      },
      "execution_count": null,
      "outputs": []
    },
    {
      "cell_type": "code",
      "source": [
        "y_pred = nb.predict(X_test)\n",
        "cm = confusion_matrix(y_test,y_pred)\n",
        "cm_display =ConfusionMatrixDisplay(cm,display_labels=[0,1])\n",
        "cm_display.plot()\n",
        "plt.show()"
      ],
      "metadata": {
        "id": "IvrvXN6xkyhr"
      },
      "execution_count": null,
      "outputs": []
    },
    {
      "cell_type": "code",
      "source": [
        "print(classification_report(y_test,y_pred))"
      ],
      "metadata": {
        "id": "xR4JOVMTk6hs"
      },
      "execution_count": null,
      "outputs": []
    },
    {
      "cell_type": "code",
      "source": [
        "f1_score(y_test,y_pred)\n",
        "precision_score(y_test,y_pred)\n",
        "recall_score(y_test,y_pred)\n",
        "accuracy_score(y_test,y_pred)\n",
        "y_score = nb.predict_proba(X_test)\n",
        "y_score =y_score[:,1]\n",
        "roc_auc_score(y_test,y_score)\n"
      ],
      "metadata": {
        "id": "-K6-ReJWk-nt"
      },
      "execution_count": null,
      "outputs": []
    },
    {
      "cell_type": "code",
      "source": [
        "fpr, tpr, _ = roc_curve(y_test, y_score)\n",
        "roc_auc_score(y_test,y_score)\n",
        "plt.title('Receiver Operating Characteristic')\n",
        "plt.legend(loc='lower right')\n",
        "plt.plot([0, 1], [0, 1], 'r--')\n",
        "plt.xlim([0, 1])\n",
        "plt.ylim([0, 1])\n",
        "plt.ylabel('True Positive Rate')\n",
        "plt.xlabel('False Positive Rate')\n",
        "plt.plot(fpr,tpr,'b',label=\"auc=\"+str(roc_auc_score(y_test,y_score)))\n",
        "plt.legend(loc=4)\n",
        "plt.show()"
      ],
      "metadata": {
        "id": "vojoLSIClD6_"
      },
      "execution_count": null,
      "outputs": []
    },
    {
      "cell_type": "code",
      "source": [
        "with open(\"model_nb.pkl\",'wb') as f:\n",
        "  pickle.dump(nb,f)\n",
        "  f.close()"
      ],
      "metadata": {
        "id": "G5MhF8mtlW6D"
      },
      "execution_count": null,
      "outputs": []
    },
    {
      "cell_type": "markdown",
      "source": [
        "Decision Tree classifier\n"
      ],
      "metadata": {
        "id": "4U1gkiA9OGSq"
      }
    },
    {
      "cell_type": "code",
      "source": [
        "from sklearn.tree import DecisionTreeClassifier\n",
        "dt = DecisionTreeClassifier()\n",
        "dt.fit(X_train,y_train)"
      ],
      "metadata": {
        "id": "VX_yubD4MGgy"
      },
      "execution_count": null,
      "outputs": []
    },
    {
      "cell_type": "code",
      "source": [
        "y_pred = dt.predict(X_test)\n",
        "cm = confusion_matrix(y_test,y_pred)\n",
        "cm_display =ConfusionMatrixDisplay(cm,display_labels=[0,1])\n",
        "cm_display.plot()\n",
        "plt.show()"
      ],
      "metadata": {
        "id": "DK5bW_qnMG75"
      },
      "execution_count": null,
      "outputs": []
    },
    {
      "cell_type": "code",
      "source": [
        "print(classification_report(y_test,y_pred))"
      ],
      "metadata": {
        "id": "66VPNwh5MG_J"
      },
      "execution_count": null,
      "outputs": []
    },
    {
      "cell_type": "code",
      "source": [
        "f1_score(y_test,y_pred)\n",
        "precision_score(y_test,y_pred)\n",
        "recall_score(y_test,y_pred)\n",
        "accuracy_score(y_test,y_pred)\n",
        "y_score = dt.predict_proba(X_test)\n",
        "y_score =y_score[:,1]\n",
        "roc_auc_score(y_test,y_score)"
      ],
      "metadata": {
        "id": "hoC1BbMgMHB9"
      },
      "execution_count": null,
      "outputs": []
    },
    {
      "cell_type": "code",
      "source": [
        "fpr, tpr, _ = roc_curve(y_test, y_score)\n",
        "roc_auc_score(y_test,y_score)\n",
        "plt.title('Receiver Operating Characteristic')\n",
        "plt.legend(loc='lower right')\n",
        "plt.plot([0, 1], [0, 1], 'r--')\n",
        "plt.xlim([0, 1])\n",
        "plt.ylim([0, 1])\n",
        "plt.ylabel('True Positive Rate')\n",
        "plt.xlabel('False Positive Rate')\n",
        "plt.plot(fpr,tpr,'b',label=\"auc=\"+str(roc_auc_score(y_test,y_score)))\n",
        "plt.legend(loc=4)\n",
        "plt.show()"
      ],
      "metadata": {
        "id": "oMQFp5ZeMHFE"
      },
      "execution_count": null,
      "outputs": []
    },
    {
      "cell_type": "code",
      "source": [
        "with open(\"model_dt.pkl\",'wb') as f:\n",
        "  pickle.dump(dt,f)\n",
        "  f.close()\n"
      ],
      "metadata": {
        "id": "mwIsQsjmMHGw"
      },
      "execution_count": null,
      "outputs": []
    },
    {
      "cell_type": "markdown",
      "source": [
        "MLPClassifier: Multilayer Perceptron classifier."
      ],
      "metadata": {
        "id": "mNaISWn_OWcL"
      }
    },
    {
      "cell_type": "code",
      "source": [
        "from sklearn.neural_network import MLPClassifier\n",
        "mlp = MLPClassifier()\n",
        "mlp.fit(X_train,y_train)"
      ],
      "metadata": {
        "id": "TtpbkmgTMHI3"
      },
      "execution_count": null,
      "outputs": []
    },
    {
      "cell_type": "code",
      "source": [
        "y_pred = mlp.predict(X_test)\n",
        "cm = confusion_matrix(y_test,y_pred)\n",
        "cm_display =ConfusionMatrixDisplay(cm,display_labels=[0,1])\n",
        "cm_display.plot()\n",
        "plt.show()"
      ],
      "metadata": {
        "id": "ttl0YUWtOD_0"
      },
      "execution_count": null,
      "outputs": []
    },
    {
      "cell_type": "code",
      "source": [
        "print(classification_report(y_test,y_pred))"
      ],
      "metadata": {
        "id": "-G75ERBvOECb"
      },
      "execution_count": null,
      "outputs": []
    },
    {
      "cell_type": "code",
      "source": [
        "f1_score(y_test,y_pred)\n",
        "precision_score(y_test,y_pred)\n",
        "recall_score(y_test,y_pred)\n",
        "accuracy_score(y_test,y_pred)\n",
        "y_score = mlp.predict_proba(X_test)\n",
        "y_score =y_score[:,1]\n",
        "roc_auc_score(y_test,y_score)"
      ],
      "metadata": {
        "id": "t1EwQQEJOEEv"
      },
      "execution_count": null,
      "outputs": []
    },
    {
      "cell_type": "code",
      "source": [
        "fpr, tpr, _ = roc_curve(y_test, y_score)\n",
        "roc_auc_score(y_test,y_score)\n",
        "plt.title('Receiver Operating Characteristic')\n",
        "plt.legend(loc='lower right')\n",
        "plt.plot([0, 1], [0, 1], 'r--')\n",
        "plt.xlim([0, 1])\n",
        "plt.ylim([0, 1])\n",
        "plt.ylabel('True Positive Rate')\n",
        "plt.xlabel('False Positive Rate')\n",
        "plt.plot(fpr,tpr,'b',label=\"auc=\"+str(roc_auc_score(y_test,y_score)))\n",
        "plt.legend(loc=4)\n",
        "plt.show()"
      ],
      "metadata": {
        "id": "fstKdyZ0OEHX"
      },
      "execution_count": null,
      "outputs": []
    },
    {
      "cell_type": "code",
      "source": [
        "with open(\"model_mpl.pkl\",'wb') as f:\n",
        "  pickle.dump(mpl,f)\n",
        "  f.close()"
      ],
      "metadata": {
        "id": "bgEm6FXAOEL0"
      },
      "execution_count": null,
      "outputs": []
    },
    {
      "cell_type": "markdown",
      "source": [
        "Synthetic Minority oversampling method -lr"
      ],
      "metadata": {
        "id": "5CeAXCrwpCjy"
      }
    },
    {
      "cell_type": "code",
      "source": [
        "from imblearn.over_sampling import SMOTE\n",
        "smote = SMOTE(random_state=42)\n",
        "X_smote,y_smote = smote.fit_resample(X,y)\n",
        "X_train_smote,X_test_smote,y_train_smote,y_test_smote = train_test_split(X_smote, y_smote,test_size=0.33,random_state=42)\n",
        "\n"
      ],
      "metadata": {
        "id": "Jh-w386nl_YY"
      },
      "execution_count": null,
      "outputs": []
    },
    {
      "cell_type": "code",
      "source": [
        "with open(\"model_lr.pkl\",'rb') as f:\n",
        "  lr = pickle.load(f)\n",
        "  f.close()"
      ],
      "metadata": {
        "id": "ETG2NN4Yxlpi"
      },
      "execution_count": null,
      "outputs": []
    },
    {
      "cell_type": "code",
      "source": [
        "from sklearn.linear_model import LogisticRegression\n",
        "lr = LogisticRegression(max_iter=1000,solver='liblinear')\n",
        "lr.fit(X_train_smote,y_train_smote)\n",
        "y_pred_smote = lr.predict(X_test_smote)"
      ],
      "metadata": {
        "id": "4VMcn9l_pjlv"
      },
      "execution_count": null,
      "outputs": []
    },
    {
      "cell_type": "code",
      "source": [
        "print(classification_report(y_test_smote,y_pred_smote))"
      ],
      "metadata": {
        "id": "FMwH2O2bn7-J"
      },
      "execution_count": null,
      "outputs": []
    },
    {
      "cell_type": "code",
      "source": [
        "f1_score(y_test_smote,y_pred_smote)\n",
        "precision_score(y_test_smote,y_pred_smote)\n",
        "recall_score(y_test_smote,y_pred_smote)\n",
        "accuracy_score(y_test_smote,y_pred_smote)\n",
        "y_score = lr.predict_proba(X_test_smote)\n",
        "y_score =y_score[:,1]\n",
        "roc_auc_score(y_test_smote,y_score)\n"
      ],
      "metadata": {
        "id": "qwbvkldkn_Dm"
      },
      "execution_count": null,
      "outputs": []
    },
    {
      "cell_type": "code",
      "source": [
        "fpr, tpr, _ = roc_curve(y_test_smote, y_score)\n",
        "roc_auc_score(y_test_smote,y_score)\n",
        "plt.title('Receiver Operating Characteristic')\n",
        "plt.legend(loc='lower right')\n",
        "plt.plot([0, 1], [0, 1], 'r--')\n",
        "plt.xlim([0, 1])\n",
        "plt.ylim([0, 1])\n",
        "plt.ylabel('True Positive Rate')\n",
        "plt.xlabel('False Positive Rate')\n",
        "plt.plot(fpr,tpr,'b',label=\"auc=\"+str(roc_auc_score(y_test_smote,y_score)))\n",
        "plt.legend(loc=4)\n",
        "plt.show()"
      ],
      "metadata": {
        "id": "uGbSkmTPoi_5"
      },
      "execution_count": null,
      "outputs": []
    },
    {
      "cell_type": "code",
      "source": [
        "with open(\"model_svm.pkl\",'rb') as f:\n",
        "  svm = pickle.load(f)\n",
        "  f.close()"
      ],
      "metadata": {
        "id": "iNv9EGx31D1X"
      },
      "execution_count": null,
      "outputs": []
    },
    {
      "cell_type": "markdown",
      "source": [
        "Synthetic Minority oversampling method - SVM"
      ],
      "metadata": {
        "id": "SlZiz7bOpWfJ"
      }
    },
    {
      "cell_type": "code",
      "source": [
        "from sklearn.svm import LinearSVC\n",
        "svm = LinearSVC()\n",
        "svm.fit(X_train_smote,y_train_smote)\n",
        "y_pred_smote = svm.predict(X_test_smote)"
      ],
      "metadata": {
        "id": "e2RcjS2Wpeti"
      },
      "execution_count": null,
      "outputs": []
    },
    {
      "cell_type": "code",
      "source": [
        "print(classification_report(y_test_smote,y_pred_smote))"
      ],
      "metadata": {
        "id": "ZSewpMCTpsGr"
      },
      "execution_count": null,
      "outputs": []
    },
    {
      "cell_type": "code",
      "source": [
        "f1_score(y_test_smote,y_pred_smote)\n",
        "precision_score(y_test_smote,y_pred_smote)\n",
        "recall_score(y_test_smote,y_pred_smote)\n",
        "accuracy_score(y_test_smote,y_pred_smote)\n",
        "y_pred_smote = svm.predict(X_test_smote)\n"
      ],
      "metadata": {
        "id": "S3TSB0agptDJ"
      },
      "execution_count": null,
      "outputs": []
    },
    {
      "cell_type": "code",
      "source": [
        "fpr, tpr, _ = roc_curve(y_test_smote, y_pred))\n",
        "roc_auc_score(y_test_smote,y_score)\n",
        "plt.title('Receiver Operating Characteristic')\n",
        "plt.legend(loc='lower right')\n",
        "plt.plot([0, 1], [0, 1], 'r--')\n",
        "plt.xlim([0, 1])\n",
        "plt.ylim([0, 1])\n",
        "plt.ylabel('True Positive Rate')\n",
        "plt.xlabel('False Positive Rate')\n",
        "plt.plot(fpr,tpr,'b',label=\"auc=\"+str(roc_auc_score(y_test_smote,y_score)))\n",
        "plt.legend(loc=4)\n",
        "plt.show()"
      ],
      "metadata": {
        "id": "Yo388lxMpxUC"
      },
      "execution_count": null,
      "outputs": []
    },
    {
      "cell_type": "code",
      "source": [],
      "metadata": {
        "id": "K_zV1Lbe5Ywg"
      },
      "execution_count": null,
      "outputs": []
    },
    {
      "cell_type": "markdown",
      "source": [
        "Synthetic Minority oversampling method - KNN\n",
        "\n",
        "\n",
        "\n",
        "\n"
      ],
      "metadata": {
        "id": "zgy_wRY2pyCK"
      }
    },
    {
      "cell_type": "code",
      "source": [
        "knn.fit(X_train_smote,y_train_smote)\n",
        "y_pred_smote = knn.predict(X_test_smote)"
      ],
      "metadata": {
        "id": "8EhrfnVfp9l6"
      },
      "execution_count": null,
      "outputs": []
    },
    {
      "cell_type": "code",
      "source": [
        "print(classification_report(y_test_smote,y_pred_smote))"
      ],
      "metadata": {
        "id": "lnGNyFGmqMXB"
      },
      "execution_count": null,
      "outputs": []
    },
    {
      "cell_type": "code",
      "source": [
        "f1_score(y_test_smote,y_pred_smote)\n",
        "precision_score(y_test_smote,y_pred_smote)\n",
        "recall_score(y_test_smote,y_pred_smote)\n",
        "accuracy_score(y_test_smote,y_pred_smote)\n",
        "y_score = svm.predict_proba(X_test_smote)\n",
        "y_score =y_score[:,1]\n",
        "roc_auc_score(y_test_smote,y_score)"
      ],
      "metadata": {
        "id": "agkeXodarGUh"
      },
      "execution_count": null,
      "outputs": []
    },
    {
      "cell_type": "code",
      "source": [
        "fpr, tpr, _ = roc_curve(y_test_smote, y_score)\n",
        "roc_auc_score(y_test_smote,y_score)\n",
        "plt.title('Receiver Operating Characteristic')\n",
        "plt.legend(loc='lower right')\n",
        "plt.plot([0, 1], [0, 1], 'r--')\n",
        "plt.xlim([0, 1])\n",
        "plt.ylim([0, 1])\n",
        "plt.ylabel('True Positive Rate')\n",
        "plt.xlabel('False Positive Rate')\n",
        "plt.plot(fpr,tpr,'b',label=\"auc=\"+str(roc_auc_score(y_test_smote,y_score)))\n",
        "plt.legend(loc=4)\n",
        "plt.show()"
      ],
      "metadata": {
        "id": "xwikmjlqrHEh"
      },
      "execution_count": null,
      "outputs": []
    },
    {
      "cell_type": "markdown",
      "source": [
        "Synthetic Minority oversampling method - NB\n"
      ],
      "metadata": {
        "id": "ovkkpRk_rSIJ"
      }
    },
    {
      "cell_type": "code",
      "source": [
        "nb.fit(X_train_smote,y_train_smote)\n",
        "y_pred_smote = nb.predict(X_test_smote)"
      ],
      "metadata": {
        "id": "ufWrwdjerKSJ"
      },
      "execution_count": null,
      "outputs": []
    },
    {
      "cell_type": "code",
      "source": [
        "print(classification_report(y_test_smote,y_pred_smote))"
      ],
      "metadata": {
        "id": "sLF_LU3_sCyb"
      },
      "execution_count": null,
      "outputs": []
    },
    {
      "cell_type": "code",
      "source": [
        "f1_score(y_test_smote,y_pred_smote)\n",
        "precision_score(y_test_smote,y_pred_smote)\n",
        "recall_score(y_test_smote,y_pred_smote)\n",
        "accuracy_score(y_test_smote,y_pred_smote)\n",
        "y_score = nb.predict_proba(X_test_smote)\n",
        "y_score =y_score[:,1]\n",
        "roc_auc_score(y_test_smote,y_score)"
      ],
      "metadata": {
        "id": "3yQxhWCtsF0q"
      },
      "execution_count": null,
      "outputs": []
    },
    {
      "cell_type": "code",
      "source": [
        "fpr, tpr, _ = roc_curve(y_test_smote, y_score)\n",
        "roc_auc_score(y_test_smote,y_score)\n",
        "plt.title('Receiver Operating Characteristic')\n",
        "plt.legend(loc='lower right')\n",
        "plt.plot([0, 1], [0, 1], 'r--')\n",
        "plt.xlim([0, 1])\n",
        "plt.ylim([0, 1])\n",
        "plt.ylabel('True Positive Rate')\n",
        "plt.xlabel('False Positive Rate')\n",
        "plt.plot(fpr,tpr,'b',label=\"auc=\"+str(roc_auc_score(y_test_smote,y_score)))\n",
        "plt.legend(loc=4)\n",
        "plt.show()"
      ],
      "metadata": {
        "id": "XeWePUB-sHqF"
      },
      "execution_count": null,
      "outputs": []
    }
  ]
}
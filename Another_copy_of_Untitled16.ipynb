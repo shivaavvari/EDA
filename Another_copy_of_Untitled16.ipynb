{
  "nbformat": 4,
  "nbformat_minor": 0,
  "metadata": {
    "colab": {
      "private_outputs": true,
      "provenance": [],
      "gpuType": "V28",
      "authorship_tag": "ABX9TyNY9rjGT7Ksmp//1MJ3XqMK",
      "include_colab_link": true
    },
    "kernelspec": {
      "name": "python3",
      "display_name": "Python 3"
    },
    "language_info": {
      "name": "python"
    },
    "accelerator": "TPU"
  },
  "cells": [
    {
      "cell_type": "markdown",
      "metadata": {
        "id": "view-in-github",
        "colab_type": "text"
      },
      "source": [
        "<a href=\"https://colab.research.google.com/github/shivaavvari/EDA/blob/main/Another_copy_of_Untitled16.ipynb\" target=\"_parent\"><img src=\"https://colab.research.google.com/assets/colab-badge.svg\" alt=\"Open In Colab\"/></a>"
      ]
    },
    {
      "cell_type": "code",
      "execution_count": null,
      "metadata": {
        "id": "nMit8Wdu4kOm"
      },
      "outputs": [],
      "source": [
        "!pip install mlxtend\n",
        "import kagglehub\n",
        "import pandas as pd\n",
        "import numpy as np\n",
        "from sklearn.preprocessing import StandardScaler\n",
        "from sklearn.model_selection import train_test_split\n",
        "from sklearn.ensemble import RandomForestClassifier\n",
        "from sklearn.metrics  import confusion_matrix ,roc_auc_score ,roc_curve, ConfusionMatrixDisplay ,RocCurveDisplay,f1_score,precision_score,recall_score,accuracy_score\n",
        "import matplotlib.pyplot as plt\n",
        "from mlxtend.plotting import plot_confusion_matrix\n",
        "from sklearn.metrics import PrecisionRecallDisplay\n",
        "from sklearn.ensemble import AdaBoostClassifier\n",
        "from sklearn.tree import DecisionTreeClassifier\n",
        "from sklearn.metrics import classification_report\n",
        "import seaborn as sns\n",
        "%matplotlib inline\n",
        "\n",
        "\n",
        "# Download latest version\n",
        "path = kagglehub.dataset_download(\"mlg-ulb/creditcardfraud\")\n",
        "\n",
        "print(\"Path to dataset files:\", path)"
      ]
    },
    {
      "cell_type": "code",
      "source": [
        "df = pd.read_csv(\"/root/.cache/kagglehub/datasets/mlg-ulb/creditcardfraud/versions/3/creditcard.csv\",sep=\",\")"
      ],
      "metadata": {
        "id": "liqCXpgk5FHf"
      },
      "execution_count": null,
      "outputs": []
    },
    {
      "cell_type": "code",
      "source": [
        "df.isna().sum()\n",
        "df.info()\n",
        "df.dtypes\n",
        "df.describe()\n"
      ],
      "metadata": {
        "id": "VOE5Ys9ZFBR8"
      },
      "execution_count": null,
      "outputs": []
    },
    {
      "cell_type": "code",
      "source": [
        "fig,ax = plt.subplots(nrows=6,ncols=5,figsize=(20,10))\n",
        "for col in df.columns[:-1]:\n",
        "  plt.subplot(6,5,df.columns.get_loc(col)+1)\n",
        "  df[col].plot.density()\n",
        "  df[col].plot(kind='hist')\n",
        "  plt.tight_layout()\n",
        "plt.show()\n"
      ],
      "metadata": {
        "id": "WN8lwqzXFe8T"
      },
      "execution_count": null,
      "outputs": []
    },
    {
      "cell_type": "code",
      "source": [
        "sns.pairplot(df[df.columns[:-1]])"
      ],
      "metadata": {
        "id": "OWWvT3DL3TLD"
      },
      "execution_count": null,
      "outputs": []
    },
    {
      "cell_type": "code",
      "source": [
        "sns.heatmap(df.corr())"
      ],
      "metadata": {
        "id": "0TjO8IWI6e_z"
      },
      "execution_count": null,
      "outputs": []
    },
    {
      "cell_type": "markdown",
      "source": [
        "# New Section"
      ],
      "metadata": {
        "id": "s4lhbZVf5JiQ"
      }
    },
    {
      "cell_type": "code",
      "source": [
        "X =df[df.columns[:-1]]\n",
        "y = df[df.columns[-1]]"
      ],
      "metadata": {
        "id": "LyLFEAiG510g"
      },
      "execution_count": null,
      "outputs": []
    },
    {
      "cell_type": "code",
      "source": [
        "scaler  = StandardScaler()\n",
        "scaler.fit_transform(X)\n",
        "X_scaled = scaler.transform(X)\n"
      ],
      "metadata": {
        "id": "FTbOLSuTSV9G"
      },
      "execution_count": null,
      "outputs": []
    },
    {
      "cell_type": "code",
      "source": [
        "\n",
        "X_train,X_test,y_train,y_test = train_test_split(X_scaled, y,test_size=0.33,random_state=42)"
      ],
      "metadata": {
        "id": "CPwHlmUL5184"
      },
      "execution_count": null,
      "outputs": []
    },
    {
      "cell_type": "code",
      "source": [
        "df.columns\n"
      ],
      "metadata": {
        "id": "M3Whd0gNNo6Y"
      },
      "execution_count": null,
      "outputs": []
    },
    {
      "cell_type": "code",
      "source": [
        "\n",
        "cls = RandomForestClassifier()\n",
        "\n",
        "cls.fit(X_train,y_train )"
      ],
      "metadata": {
        "id": "8H73Og9e5_4o"
      },
      "execution_count": null,
      "outputs": []
    },
    {
      "cell_type": "code",
      "source": [
        "y_pred = cls.predict(X_test)\n",
        "\n",
        "test = X_test[y_pred==1]\n",
        "type(test)"
      ],
      "metadata": {
        "id": "t6ftdSRL5__i"
      },
      "execution_count": null,
      "outputs": []
    },
    {
      "cell_type": "code",
      "source": [
        "X_test [y_pred == 1]\n",
        "df_test = pd.DataFrame(X_test[y_pred==1],columns=df.columns[:-1])\n",
        "df_test"
      ],
      "metadata": {
        "id": "4Kz6pfYD70_o"
      },
      "execution_count": null,
      "outputs": []
    },
    {
      "cell_type": "markdown",
      "source": [],
      "metadata": {
        "id": "qcfFNsZCC-4E"
      }
    },
    {
      "cell_type": "code",
      "source": [
        "df_test[df_test.index==1].to_json().replace('\"0\":','').replace(\"{\",'').replace(\"}\",\"\")"
      ],
      "metadata": {
        "id": "jCx_qRw871Fz"
      },
      "execution_count": null,
      "outputs": []
    },
    {
      "cell_type": "code",
      "source": [
        "cm = confusion_matrix(y_test,y_pred)\n",
        "cm_display =ConfusionMatrixDisplay(cm,display_labels=[0,1])\n",
        "cm_display.plot()\n",
        "plt.show()"
      ],
      "metadata": {
        "collapsed": true,
        "id": "El_G1OBUBRho"
      },
      "execution_count": null,
      "outputs": []
    },
    {
      "cell_type": "code",
      "source": [
        "print(classification_report(y_test,y_pred))"
      ],
      "metadata": {
        "id": "nEFtYbWSQlMk"
      },
      "execution_count": null,
      "outputs": []
    },
    {
      "cell_type": "code",
      "source": [
        "f1_score(y_test,y_pred)"
      ],
      "metadata": {
        "id": "dx1fZ9GfHpwy"
      },
      "execution_count": null,
      "outputs": []
    },
    {
      "cell_type": "code",
      "source": [
        "precision_score(y_test,y_pred)"
      ],
      "metadata": {
        "id": "4xS-xxcZHxZa"
      },
      "execution_count": null,
      "outputs": []
    },
    {
      "cell_type": "code",
      "source": [
        "recall_score(y_test,y_pred)"
      ],
      "metadata": {
        "id": "CCQOE7kgH2qi"
      },
      "execution_count": null,
      "outputs": []
    },
    {
      "cell_type": "code",
      "source": [
        "accuracy_score(y_test,y_pred)"
      ],
      "metadata": {
        "id": "7cfYlKLOH5j6"
      },
      "execution_count": null,
      "outputs": []
    },
    {
      "cell_type": "code",
      "source": [
        "y_score = cls.predict_proba(X_train)[:,1]\n",
        "y_score\n",
        "roc_auc_score(y_train,y_score)\n"
      ],
      "metadata": {
        "id": "LWn1zi0rH_mq"
      },
      "execution_count": null,
      "outputs": []
    },
    {
      "cell_type": "code",
      "source": [
        "PrecisionRecallDisplay.from_estimator(cls,X_test,y_test,plot_chance_level=True)"
      ],
      "metadata": {
        "id": "4cLNtc_sMqgl"
      },
      "execution_count": null,
      "outputs": []
    },
    {
      "cell_type": "code",
      "source": [
        "PrecisionRecallDisplay.from_predictions(y_test,y_pred)"
      ],
      "metadata": {
        "id": "kljuFgHlM48j"
      },
      "execution_count": null,
      "outputs": []
    },
    {
      "cell_type": "code",
      "source": [
        "import pickle\n",
        "with open(\"model_rf.pkl\",'wb') as f:\n",
        "  pickle.dump(cls,f)\n",
        "  f.close()"
      ],
      "metadata": {
        "id": "AkYcT-d3MxtN"
      },
      "execution_count": null,
      "outputs": []
    },
    {
      "cell_type": "code",
      "source": [
        "weak_learner = DecisionTreeClassifier(max_leaf_nodes=8)"
      ],
      "metadata": {
        "id": "5evCrxk9QBzM"
      },
      "execution_count": null,
      "outputs": []
    },
    {
      "cell_type": "code",
      "source": [
        "clf = AdaBoostClassifier(estimator=weak_learner,n_estimators=200,algorithm='SAMME',random_state=42)"
      ],
      "metadata": {
        "id": "V6ldpYlaQFFs"
      },
      "execution_count": null,
      "outputs": []
    },
    {
      "cell_type": "code",
      "source": [
        "clf.fit(X_train,y_train)"
      ],
      "metadata": {
        "id": "YdmhHkpCQGML"
      },
      "execution_count": null,
      "outputs": []
    },
    {
      "cell_type": "code",
      "source": [
        "y_pred_ada = clf.predict(X_test)"
      ],
      "metadata": {
        "id": "pG_MFzxHR2wU"
      },
      "execution_count": null,
      "outputs": []
    },
    {
      "cell_type": "code",
      "source": [
        "cm_ada=confusion_matrix(y_test,y_pred_ada)"
      ],
      "metadata": {
        "id": "o_UFrMg6WANF"
      },
      "execution_count": null,
      "outputs": []
    },
    {
      "cell_type": "code",
      "source": [
        "cm_ada_display =ConfusionMatrixDisplay(cm_ada,display_labels=[0,1])\n",
        "cm_ada_display.plot()\n",
        "plt.show()"
      ],
      "metadata": {
        "id": "IuH7qHzrWKZN"
      },
      "execution_count": null,
      "outputs": []
    },
    {
      "cell_type": "code",
      "source": [
        "print(classification_report(y_test,y_pred_ada))"
      ],
      "metadata": {
        "id": "kgm4aS3oWW5V"
      },
      "execution_count": null,
      "outputs": []
    },
    {
      "cell_type": "code",
      "source": [
        "f1_score(y_test,y_pred_ada)"
      ],
      "metadata": {
        "id": "qcwDtbwyXjBF"
      },
      "execution_count": null,
      "outputs": []
    },
    {
      "cell_type": "code",
      "source": [
        "precision_score(y_test,y_pred_ada)\n"
      ],
      "metadata": {
        "id": "jgj0t6IvYPCF"
      },
      "execution_count": null,
      "outputs": []
    },
    {
      "cell_type": "code",
      "source": [
        "accuracy_score(y_test,y_pred_ada )"
      ],
      "metadata": {
        "id": "1Bf-Rv6fYXJp"
      },
      "execution_count": null,
      "outputs": []
    },
    {
      "cell_type": "code",
      "source": [
        "PrecisionRecallDisplay.from_estimator(clf,X_test,y_test,plot_chance_level=True)"
      ],
      "metadata": {
        "id": "0YYszf7zYlf3"
      },
      "execution_count": null,
      "outputs": []
    },
    {
      "cell_type": "code",
      "source": [
        "PrecisionRecallDisplay.from_predictions(y_test,y_pred_ada)"
      ],
      "metadata": {
        "id": "3EhHm8ENYtY1"
      },
      "execution_count": null,
      "outputs": []
    },
    {
      "cell_type": "code",
      "source": [
        "print(classification_report(y_test,y_pred))"
      ],
      "metadata": {
        "id": "K3jhSGzRfYiX"
      },
      "execution_count": null,
      "outputs": []
    },
    {
      "cell_type": "code",
      "source": [
        "y_score_ada = clf.predict_proba(X_train)[:,1]\n",
        "roc_auc_score(y_train,y_score_ada)"
      ],
      "metadata": {
        "id": "5KuiaSuwhwp_"
      },
      "execution_count": null,
      "outputs": []
    },
    {
      "cell_type": "code",
      "source": [
        "with open(\"model_ada.pkl\",'wb') as f:\n",
        "  pickle.dump(clf,f)\n",
        "  f.close()"
      ],
      "metadata": {
        "id": "xEGVA9gJEq83"
      },
      "execution_count": null,
      "outputs": []
    },
    {
      "cell_type": "code",
      "source": [
        "cls.feature_importances_"
      ],
      "metadata": {
        "id": "x5BGevzMRkuO"
      },
      "execution_count": null,
      "outputs": []
    },
    {
      "cell_type": "code",
      "source": [
        "clf.feature_importances_"
      ],
      "metadata": {
        "id": "SJqhiK85RnRg"
      },
      "execution_count": null,
      "outputs": []
    },
    {
      "cell_type": "code",
      "source": [
        "cls"
      ],
      "metadata": {
        "id": "uaAtHSHzR7O6"
      },
      "execution_count": null,
      "outputs": []
    },
    {
      "cell_type": "code",
      "source": [
        "clf"
      ],
      "metadata": {
        "id": "xXcqDmKLSDHC"
      },
      "execution_count": null,
      "outputs": []
    },
    {
      "cell_type": "code",
      "source": [],
      "metadata": {
        "id": "RLGXV7QTSFrC"
      },
      "execution_count": null,
      "outputs": []
    }
  ]
}